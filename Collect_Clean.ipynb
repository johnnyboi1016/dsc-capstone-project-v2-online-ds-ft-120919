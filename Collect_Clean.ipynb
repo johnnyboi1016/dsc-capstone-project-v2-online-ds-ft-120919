{
 "cells": [
  {
   "cell_type": "markdown",
   "metadata": {},
   "source": [
    "# Flatiron School for Data Science - Capstone Project\n",
    "* Student name: John J. Cho\n",
    "* Student pace: full time online\n",
    "* Instructor name: Rafael Carrasco\n",
    "* Blog post URL: "
   ]
  },
  {
   "cell_type": "markdown",
   "metadata": {},
   "source": [
    "## Data Collection and Cleaning\n",
    "* Despite the obvious inefficiency in manually coding for the scraping of eBay listings using Beautiful Soup rather than using their API, I desired to gain the experience (and pain :-] ) in doing so."
   ]
  },
  {
   "cell_type": "code",
   "execution_count": 4,
   "metadata": {
    "ExecuteTime": {
     "end_time": "2020-05-15T17:46:02.187742Z",
     "start_time": "2020-05-15T17:45:59.275273Z"
    }
   },
   "outputs": [],
   "source": [
    "# Importing libraries\n",
    "import numpy as np\n",
    "import pandas as pd\n",
    "import requests\n",
    "from bs4 import BeautifulSoup\n",
    "import datetime as dt\n",
    "\n",
    "pd.set_option('display.max_colwidth', 100)\n",
    "pd.set_option('display.max_rows', 500)\n",
    "pd.options.mode.chained_assignment = None  # default='warn'"
   ]
  },
  {
   "cell_type": "code",
   "execution_count": 5,
   "metadata": {
    "ExecuteTime": {
     "end_time": "2020-05-15T17:46:02.222755Z",
     "start_time": "2020-05-15T17:46:02.192104Z"
    }
   },
   "outputs": [],
   "source": [
    "# eBay scraper function\n",
    "def scrape_ebay(url,pages):\n",
    "    \"\"\"\n",
    "    Function to scrape auction data from eBay using Beautiful Soup.\n",
    "    The URL link and number of pages (set to show maximum # of listings - 200) must be defined and a dataframe will be returned\n",
    "    with populated values for Title, Date, Price, Shipping Cost, Unit Condition and Link to the auction URL.\n",
    "    \"\"\"\n",
    "    titles,dates,prices,shipping,condition,subtitles,links,sellers = [], [], [], [], [], [], [], []\n",
    "    for page in range(1,pages+1):  #loop thru every page of max results (200)\n",
    "        \n",
    "        # Get html page data using BeautifulSoup\n",
    "        req = requests.get(url.format(page))\n",
    "        soup = BeautifulSoup(req.content, 'html.parser')\n",
    "        listings = soup.find_all('li', attrs={'class': 's-item'})\n",
    "\n",
    "        for listing in listings:  #loop thru each listing on page\n",
    "            for name in listing.find_all('h3', attrs={'class':\"s-item__title\"}):  #filter for errors if listing is invalid\n",
    "                if (str(name.find(text=True, recursive=False))!='None') and (listing!=listings[0]):  #listing[0] is page headers\n",
    "                    \n",
    "                    # Get auction title\n",
    "                    name = listing.find('h3', attrs={'class':\"s-item__title\"})\n",
    "                    title = str(name.find(text=True, recursive=False))\n",
    "                    titles.append(title)\n",
    "                    \n",
    "                    # Get ending date\n",
    "                    date = listing.find('span', attrs={'class':\"s-item__ended-date\"})\n",
    "                    date = date.find(text=True)\n",
    "                    dates.append(date)\n",
    "\n",
    "                    # Get ending price\n",
    "                    price = listing.find('span', attrs={'class':\"s-item__price\"})\n",
    "                    price = price.find(text=True)\n",
    "                    price = price.replace('$','')\n",
    "                    price = price.replace(',','')\n",
    "                    prices.append(price)\n",
    "\n",
    "                    # Get shipping info\n",
    "                    ship = listing.find('span', attrs={'class':\"s-item__shipping\"})\n",
    "                    if ship==None: ship = listing.find_all('span', attrs={'class':\"s-item__shipping\"})\n",
    "                    else: ship = ship.find(text=True)\n",
    "                    shipping.append(ship)\n",
    "\n",
    "                    # Get condition info\n",
    "                    cond = listing.find('div', attrs={'class':\"s-item__subtitle\"})\n",
    "                    #cond2 = cond.find(attrs={'class':\"SECONDARY_INFO\"})\n",
    "                    cond = cond.find(text=True)\n",
    "                    condition.append(cond)\n",
    "\n",
    "                    # Get auction link to scrape more info\n",
    "                    link = listing.find_all(\"a\", attrs={'class':'s-item__link'})\n",
    "                    links.append(str(link))\n",
    "                    \n",
    "    # Put all info into dataframe\n",
    "    scraped = pd.DataFrame({\"Date\":dates,\"Title\":titles,\"Price\":prices,\"Shipping\":shipping,\"Condition\":condition,\n",
    "                            \"Link\":links})\n",
    "    scraped.Link = scraped.Link.apply(lambda x: x.split('href=\"')[1].split('\"')[0])  #clean up html link\n",
    "    \n",
    "    # Add year 2020 in front and convert all date values to datetime object\n",
    "    scraped.Date = scraped.Date.apply(lambda x: '2020-'+x)\n",
    "    scraped.Date = pd.to_datetime(scraped.Date)\n",
    "    scraped = scraped.sort_values(by=['Date'], ascending=False)\n",
    "    return scraped"
   ]
  },
  {
   "cell_type": "code",
   "execution_count": 230,
   "metadata": {
    "ExecuteTime": {
     "end_time": "2020-05-13T20:24:36.000256Z",
     "start_time": "2020-05-13T20:21:22.532384Z"
    }
   },
   "outputs": [],
   "source": [
    "# Filtering for Nintendo Switch, Sold Items, US/Canada, max (200) listings per page, Gray color only\n",
    "pages = 7  #have to manually check then set how many pages to scrape\n",
    "url = \"https://www.ebay.com/sch/i.html?_oaa=1&_dcat=139971&Model=Nintendo%2520Switch&Color=Gray&_fsrp=1&_nkw=nintendo+switch&LH_Complete=1&rt=nc&Region%2520Code=NTSC%252DU%252FC%2520%2528US%252FCanada%2529&LH_Sold=1&_ipg=200&_pgn={}\"\n",
    "df_gray = scrape_ebay(url,pages)"
   ]
  },
  {
   "cell_type": "code",
   "execution_count": null,
   "metadata": {},
   "outputs": [],
   "source": [
    "# Filtering for other colors (Black, Blue, White, Clear, Green, Multicolor, Orange, Pink, Purple, Red, Yellow, Not Specified)\n",
    "pages = 4\n",
    "url = \"https://www.ebay.com/sch/i.html?_oaa=1&_dcat=139971&Model=Nintendo%2520Switch&Color=Clear%7CGreen%7CMulticolor%7COrange%7CPink%7CPurple%7CRed%7CYellow%7C%21%7CBlack%7CBlue%7CWhite&_fsrp=1&_nkw=nintendo+switch&LH_Complete=1&Region%2520Code=NTSC%252DU%252FC%2520%2528US%252FCanada%2529&LH_Sold=1&_ipg=200&_pgn={}&rt=nc\"\n",
    "df_misc = scrape_ebay(url,pages)"
   ]
  },
  {
   "cell_type": "code",
   "execution_count": null,
   "metadata": {},
   "outputs": [],
   "source": [
    "# Filtering for Switch Lite only\n",
    "pages = 6\n",
    "url = \"https://www.ebay.com/sch/i.html?_oaa=1&_dcat=139971&Model=Nintendo%2520Switch%2520Lite&_fsrp=1&_nkw=nintendo+switch&LH_Complete=1&Region%2520Code=NTSC%252DU%252FC%2520%2528US%252FCanada%2529&LH_Sold=1&_ipg=200&_pgn={}&rt=nc\"\n",
    "df_lite = scrape_ebay(url,pages)"
   ]
  },
  {
   "cell_type": "code",
   "execution_count": 7,
   "metadata": {
    "ExecuteTime": {
     "end_time": "2020-05-16T01:56:22.655738Z",
     "start_time": "2020-05-16T01:56:22.345397Z"
    },
    "scrolled": true
   },
   "outputs": [
    {
     "data": {
      "text/html": [
       "<div>\n",
       "<style scoped>\n",
       "    .dataframe tbody tr th:only-of-type {\n",
       "        vertical-align: middle;\n",
       "    }\n",
       "\n",
       "    .dataframe tbody tr th {\n",
       "        vertical-align: top;\n",
       "    }\n",
       "\n",
       "    .dataframe thead th {\n",
       "        text-align: right;\n",
       "    }\n",
       "</style>\n",
       "<table border=\"1\" class=\"dataframe\">\n",
       "  <thead>\n",
       "    <tr style=\"text-align: right;\">\n",
       "      <th></th>\n",
       "      <th>Date</th>\n",
       "      <th>Title</th>\n",
       "      <th>Price</th>\n",
       "      <th>Shipping</th>\n",
       "      <th>Condition</th>\n",
       "      <th>Link</th>\n",
       "      <th>Location</th>\n",
       "      <th>Seller</th>\n",
       "      <th>Feedback</th>\n",
       "      <th>FBScore</th>\n",
       "    </tr>\n",
       "  </thead>\n",
       "  <tbody>\n",
       "    <tr>\n",
       "      <td>0</td>\n",
       "      <td>2020-05-13 20:54:00</td>\n",
       "      <td>BRAND NEW - Nintendo Switch 32GB V2 - Gray Joy-Cons Grey - IN HAND, SHIPS NOW</td>\n",
       "      <td>460.00</td>\n",
       "      <td>15.39</td>\n",
       "      <td>Brand New</td>\n",
       "      <td>https://www.ebay.com/itm/BRAND-NEW-Nintendo-Switch-32GB-V2-Gray-Joy-Cons-Grey-IN-HAND-SHIPS-NOW/...</td>\n",
       "      <td>['Holland', 'Michigan', 'United States']</td>\n",
       "      <td>tho2216</td>\n",
       "      <td>9.0</td>\n",
       "      <td>90.0</td>\n",
       "    </tr>\n",
       "    <tr>\n",
       "      <td>1</td>\n",
       "      <td>2020-05-13 20:50:00</td>\n",
       "      <td>Like A New 2020 Nintendo Switch With 4 Games (Animal Crossing, Zelda and More)</td>\n",
       "      <td>560.00</td>\n",
       "      <td>5.00</td>\n",
       "      <td>Open Box</td>\n",
       "      <td>https://www.ebay.com/itm/Like-A-New-2020-Nintendo-Switch-With-4-Games-Animal-Crossing-Zelda-and-...</td>\n",
       "      <td>['Suwanee', 'Georgia', 'United States']</td>\n",
       "      <td>leqazson</td>\n",
       "      <td>10.0</td>\n",
       "      <td>100.0</td>\n",
       "    </tr>\n",
       "    <tr>\n",
       "      <td>2</td>\n",
       "      <td>2020-05-13 20:42:00</td>\n",
       "      <td>NEW Nintendo Switch 32GB Gray Console with Neon Red and Neon Blue Joy-Con</td>\n",
       "      <td>489.00</td>\n",
       "      <td>0.00</td>\n",
       "      <td>Brand New</td>\n",
       "      <td>https://www.ebay.com/itm/NEW-Nintendo-Switch-32GB-Gray-Console-with-Neon-Red-and-Neon-Blue-Joy-C...</td>\n",
       "      <td>['Brooklyn', 'New York', 'United States']</td>\n",
       "      <td>giovannecheverri8</td>\n",
       "      <td>43.0</td>\n",
       "      <td>100.0</td>\n",
       "    </tr>\n",
       "    <tr>\n",
       "      <td>3</td>\n",
       "      <td>2020-05-13 20:37:00</td>\n",
       "      <td>Nintendo Switch Neon Blue and Neon Red Joyâ€‘Con Console Gamestop Refurbished</td>\n",
       "      <td>449.95</td>\n",
       "      <td>0.00</td>\n",
       "      <td>Refurbished</td>\n",
       "      <td>https://www.ebay.com/itm/Nintendo-Switch-Neon-Blue-and-Neon-Red-Joy-Con-Console-Gamestop-Refurbi...</td>\n",
       "      <td>['Fremont', 'California', 'United States']</td>\n",
       "      <td>grtsvc</td>\n",
       "      <td>119.0</td>\n",
       "      <td>100.0</td>\n",
       "    </tr>\n",
       "    <tr>\n",
       "      <td>4</td>\n",
       "      <td>2020-05-13 20:33:00</td>\n",
       "      <td>Nintendo Switch Neon Red &amp; Neon Blue Console V2 *NEW IN HAND* SHIPS ASAP</td>\n",
       "      <td>460.00</td>\n",
       "      <td>26.70</td>\n",
       "      <td>Brand New</td>\n",
       "      <td>https://www.ebay.com/itm/Nintendo-Switch-Neon-Red-Neon-Blue-Console-V2-NEW-IN-HAND-SHIPS-ASAP/14...</td>\n",
       "      <td>['West Palm Beach', 'Florida', 'United States']</td>\n",
       "      <td>ppsgh</td>\n",
       "      <td>24.0</td>\n",
       "      <td>100.0</td>\n",
       "    </tr>\n",
       "    <tr>\n",
       "      <td>...</td>\n",
       "      <td>...</td>\n",
       "      <td>...</td>\n",
       "      <td>...</td>\n",
       "      <td>...</td>\n",
       "      <td>...</td>\n",
       "      <td>...</td>\n",
       "      <td>...</td>\n",
       "      <td>...</td>\n",
       "      <td>...</td>\n",
       "      <td>...</td>\n",
       "    </tr>\n",
       "    <tr>\n",
       "      <td>14231</td>\n",
       "      <td>2020-02-05 20:31:00</td>\n",
       "      <td>Nintendo Switch 32GB Gray Console with Neon Red and Neon Blue Joy-Con</td>\n",
       "      <td>247.50</td>\n",
       "      <td>26.70</td>\n",
       "      <td>Refurbished</td>\n",
       "      <td>https://www.ebay.com/itm/Nintendo-Switch-32GB-Gray-Console-with-Neon-Red-and-Neon-Blue-Joy-Con-/...</td>\n",
       "      <td>['Canton', 'Ohio', 'United States']</td>\n",
       "      <td>ryanl1313</td>\n",
       "      <td>2.0</td>\n",
       "      <td>50.0</td>\n",
       "    </tr>\n",
       "    <tr>\n",
       "      <td>14232</td>\n",
       "      <td>2020-02-05 20:18:00</td>\n",
       "      <td>Nintendo Switch 32GB Gray Console with Neon Red and Neon Blue Joy-Con</td>\n",
       "      <td>215.50</td>\n",
       "      <td>18.50</td>\n",
       "      <td>Brand New</td>\n",
       "      <td>https://www.ebay.com/itm/Nintendo-Switch-32GB-Gray-Console-with-Neon-Red-and-Neon-Blue-Joy-Con-/...</td>\n",
       "      <td>['Cambridge', 'Ontario', 'Canada']</td>\n",
       "      <td>mohawk-44</td>\n",
       "      <td>267.0</td>\n",
       "      <td>100.0</td>\n",
       "    </tr>\n",
       "    <tr>\n",
       "      <td>14233</td>\n",
       "      <td>2020-02-05 19:34:00</td>\n",
       "      <td>Nintendo Switch with 128gb sd card Gray Console with gray Joy-Con.</td>\n",
       "      <td>160.00</td>\n",
       "      <td>15.00</td>\n",
       "      <td>Pre-Owned</td>\n",
       "      <td>https://www.ebay.com/itm/Nintendo-Switch-with-128gb-sd-card-Gray-Console-with-gray-Joy-Con-/2238...</td>\n",
       "      <td>['Hartsville', 'South Carolina', 'United States']</td>\n",
       "      <td>jorda.mart</td>\n",
       "      <td>632.0</td>\n",
       "      <td>100.0</td>\n",
       "    </tr>\n",
       "    <tr>\n",
       "      <td>14234</td>\n",
       "      <td>2020-02-05 18:35:00</td>\n",
       "      <td>Nintendo Switch Hac001 with Grey Joy-Cons 2189</td>\n",
       "      <td>201.00</td>\n",
       "      <td>16.99</td>\n",
       "      <td>Pre-Owned</td>\n",
       "      <td>https://www.ebay.com/itm/Nintendo-Switch-Hac001-with-Grey-Joy-Cons-2189-/372933762550?_trksid=p2...</td>\n",
       "      <td>['Burnsville', 'Minnesota', 'United States']</td>\n",
       "      <td>epawnamerica</td>\n",
       "      <td>169492.0</td>\n",
       "      <td>99.9</td>\n",
       "    </tr>\n",
       "    <tr>\n",
       "      <td>14235</td>\n",
       "      <td>2020-02-05 17:15:00</td>\n",
       "      <td>Barley Used Nintendo  Switch 32GB Gray Console with Neon Red</td>\n",
       "      <td>239.50</td>\n",
       "      <td>26.70</td>\n",
       "      <td>Pre-Owned</td>\n",
       "      <td>https://www.ebay.com/itm/Barley-Used-Nintendo-Switch-32GB-Gray-Console-with-Neon-Red/13331991725...</td>\n",
       "      <td>['Taunton', 'Massachusetts', 'United States']</td>\n",
       "      <td>reupcycle</td>\n",
       "      <td>179.0</td>\n",
       "      <td>100.0</td>\n",
       "    </tr>\n",
       "  </tbody>\n",
       "</table>\n",
       "<p>14236 rows × 10 columns</p>\n",
       "</div>"
      ],
      "text/plain": [
       "                      Date  \\\n",
       "0      2020-05-13 20:54:00   \n",
       "1      2020-05-13 20:50:00   \n",
       "2      2020-05-13 20:42:00   \n",
       "3      2020-05-13 20:37:00   \n",
       "4      2020-05-13 20:33:00   \n",
       "...                    ...   \n",
       "14231  2020-02-05 20:31:00   \n",
       "14232  2020-02-05 20:18:00   \n",
       "14233  2020-02-05 19:34:00   \n",
       "14234  2020-02-05 18:35:00   \n",
       "14235  2020-02-05 17:15:00   \n",
       "\n",
       "                                                                                Title  \\\n",
       "0       BRAND NEW - Nintendo Switch 32GB V2 - Gray Joy-Cons Grey - IN HAND, SHIPS NOW   \n",
       "1      Like A New 2020 Nintendo Switch With 4 Games (Animal Crossing, Zelda and More)   \n",
       "2           NEW Nintendo Switch 32GB Gray Console with Neon Red and Neon Blue Joy-Con   \n",
       "3       Nintendo Switch Neon Blue and Neon Red Joyâ€‘Con Console Gamestop Refurbished   \n",
       "4            Nintendo Switch Neon Red & Neon Blue Console V2 *NEW IN HAND* SHIPS ASAP   \n",
       "...                                                                               ...   \n",
       "14231           Nintendo Switch 32GB Gray Console with Neon Red and Neon Blue Joy-Con   \n",
       "14232           Nintendo Switch 32GB Gray Console with Neon Red and Neon Blue Joy-Con   \n",
       "14233             Nintendo Switch with 128gb sd card Gray Console with gray Joy-Con.    \n",
       "14234                                  Nintendo Switch Hac001 with Grey Joy-Cons 2189   \n",
       "14235                    Barley Used Nintendo  Switch 32GB Gray Console with Neon Red   \n",
       "\n",
       "        Price  Shipping    Condition  \\\n",
       "0      460.00     15.39    Brand New   \n",
       "1      560.00      5.00     Open Box   \n",
       "2      489.00      0.00    Brand New   \n",
       "3      449.95      0.00  Refurbished   \n",
       "4      460.00     26.70    Brand New   \n",
       "...       ...       ...          ...   \n",
       "14231  247.50     26.70  Refurbished   \n",
       "14232  215.50     18.50    Brand New   \n",
       "14233  160.00     15.00    Pre-Owned   \n",
       "14234  201.00     16.99    Pre-Owned   \n",
       "14235  239.50     26.70    Pre-Owned   \n",
       "\n",
       "                                                                                                      Link  \\\n",
       "0      https://www.ebay.com/itm/BRAND-NEW-Nintendo-Switch-32GB-V2-Gray-Joy-Cons-Grey-IN-HAND-SHIPS-NOW/...   \n",
       "1      https://www.ebay.com/itm/Like-A-New-2020-Nintendo-Switch-With-4-Games-Animal-Crossing-Zelda-and-...   \n",
       "2      https://www.ebay.com/itm/NEW-Nintendo-Switch-32GB-Gray-Console-with-Neon-Red-and-Neon-Blue-Joy-C...   \n",
       "3      https://www.ebay.com/itm/Nintendo-Switch-Neon-Blue-and-Neon-Red-Joy-Con-Console-Gamestop-Refurbi...   \n",
       "4      https://www.ebay.com/itm/Nintendo-Switch-Neon-Red-Neon-Blue-Console-V2-NEW-IN-HAND-SHIPS-ASAP/14...   \n",
       "...                                                                                                    ...   \n",
       "14231  https://www.ebay.com/itm/Nintendo-Switch-32GB-Gray-Console-with-Neon-Red-and-Neon-Blue-Joy-Con-/...   \n",
       "14232  https://www.ebay.com/itm/Nintendo-Switch-32GB-Gray-Console-with-Neon-Red-and-Neon-Blue-Joy-Con-/...   \n",
       "14233  https://www.ebay.com/itm/Nintendo-Switch-with-128gb-sd-card-Gray-Console-with-gray-Joy-Con-/2238...   \n",
       "14234  https://www.ebay.com/itm/Nintendo-Switch-Hac001-with-Grey-Joy-Cons-2189-/372933762550?_trksid=p2...   \n",
       "14235  https://www.ebay.com/itm/Barley-Used-Nintendo-Switch-32GB-Gray-Console-with-Neon-Red/13331991725...   \n",
       "\n",
       "                                                Location              Seller  \\\n",
       "0               ['Holland', 'Michigan', 'United States']             tho2216   \n",
       "1                ['Suwanee', 'Georgia', 'United States']            leqazson   \n",
       "2              ['Brooklyn', 'New York', 'United States']   giovannecheverri8   \n",
       "3             ['Fremont', 'California', 'United States']              grtsvc   \n",
       "4        ['West Palm Beach', 'Florida', 'United States']               ppsgh   \n",
       "...                                                  ...                 ...   \n",
       "14231                ['Canton', 'Ohio', 'United States']           ryanl1313   \n",
       "14232                 ['Cambridge', 'Ontario', 'Canada']           mohawk-44   \n",
       "14233  ['Hartsville', 'South Carolina', 'United States']          jorda.mart   \n",
       "14234       ['Burnsville', 'Minnesota', 'United States']        epawnamerica   \n",
       "14235      ['Taunton', 'Massachusetts', 'United States']           reupcycle   \n",
       "\n",
       "       Feedback  FBScore  \n",
       "0           9.0     90.0  \n",
       "1          10.0    100.0  \n",
       "2          43.0    100.0  \n",
       "3         119.0    100.0  \n",
       "4          24.0    100.0  \n",
       "...         ...      ...  \n",
       "14231       2.0     50.0  \n",
       "14232     267.0    100.0  \n",
       "14233     632.0    100.0  \n",
       "14234  169492.0     99.9  \n",
       "14235     179.0    100.0  \n",
       "\n",
       "[14236 rows x 10 columns]"
      ]
     },
     "execution_count": 7,
     "metadata": {},
     "output_type": "execute_result"
    }
   ],
   "source": [
    "df"
   ]
  },
  {
   "cell_type": "code",
   "execution_count": 228,
   "metadata": {
    "ExecuteTime": {
     "end_time": "2020-05-15T00:06:20.465708Z",
     "start_time": "2020-05-14T23:59:00.383238Z"
    },
    "collapsed": true
   },
   "outputs": [
    {
     "name": "stdout",
     "output_type": "stream",
     "text": [
      "156\n",
      "159\n",
      "160\n",
      "163\n",
      "164\n",
      "168\n",
      "169\n",
      "171\n",
      "172\n",
      "174\n",
      "176\n",
      "177\n",
      "178\n",
      "180\n",
      "183\n",
      "186\n",
      "187\n",
      "188\n",
      "189\n",
      "190\n",
      "193\n",
      "196\n",
      "197\n",
      "199\n",
      "201\n",
      "202\n",
      "203\n",
      "204\n",
      "208\n",
      "209\n",
      "212\n",
      "213\n",
      "215\n",
      "216\n",
      "217\n",
      "218\n",
      "220\n",
      "223\n",
      "224\n",
      "225\n",
      "227\n",
      "230\n"
     ]
    }
   ],
   "source": [
    "# Get additional details: item location, seller username, feedback count and score using direct page link\n",
    "# Not defined as a function so variables can persist during troubleshooting and tendency for web pages to change/disappear\n",
    "i = 0  #index counter\n",
    "location, feedback, seller, fbscore = [], [], [], []\n",
    "\n",
    "for url in df.Link.iloc[i:]:\n",
    "\n",
    "    # Pull additional details from link to auction details\n",
    "    req = requests.get(url)\n",
    "    soup = BeautifulSoup(req.content, 'html.parser')\n",
    "    listing = soup.find_all('tr', attrs={'class': 'vi-ht20'})\n",
    "        \n",
    "    if listing==[]:  #filtering for older listings that need to grab another link to get to correct listing page\n",
    "        listing = soup.find('div', attrs={'class': 'nodestar-item-card-details__view'})\n",
    "        if listing==None:  #filtering for power seller with active store\n",
    "            listing = soup.find_all('tr', attrs={'class': 'vi-ht20'})\n",
    "        else:\n",
    "            link = listing.a.get('href')\n",
    "            df.Link.iloc[i] = link\n",
    "            req = requests.get(link)\n",
    "            soup = BeautifulSoup(req.content, 'html.parser')\n",
    "            listing = soup.find_all('tr', attrs={'class': 'vi-ht20'})\n",
    "    \n",
    "    if listing!=[]:  #filter for different page layouts\n",
    "            \n",
    "        # Get item location\n",
    "        temp = listing[3].find_all('div', attrs={'class': 'u-flL'})\n",
    "        loc = temp[1].find(text=True)\n",
    "        if loc=='\\n':  #slightly diff page layout\n",
    "            loc = listing[4].find_all('div', attrs={'class': 'u-flL'})[1].get_text()\n",
    "        location.append(loc)\n",
    "        # Get feedback count\n",
    "        try: feed = listing[4].find_all('a')[1].get_text()  #different page layouts\n",
    "        except: feed = listing[5].find('div', attrs={'class': 'mbg vi-VR-margBtm3'}).find_all('a')[1].get_text()\n",
    "        feedback.append(feed)\n",
    "        # Get seller username\n",
    "        try: name = listing[4].find('div', attrs={'class': 'mbg vi-VR-margBtm3'}).a.get_text()  #different page layouts\n",
    "        except: name = listing[5].find('div', attrs={'class': 'mbg vi-VR-margBtm3'}).a.get_text()\n",
    "        seller.append(name)\n",
    "        # Get feedback score (need to navigate to seller's page first)\n",
    "        try: link = listing[4].find('div', attrs={'class':'mbg vi-VR-margBtm3'}).a.get('href')  #different page layouts\n",
    "        except: link = listing[5].find('div', attrs={'class': 'mbg vi-VR-margBtm3'}).a.get('href')\n",
    "        req = requests.get(link)\n",
    "        soup = BeautifulSoup(req.content, 'html.parser')\n",
    "        listing = soup.find('div', attrs={'class':'perctg'})\n",
    "        if listing.get_text()=='':  #filter for no feedback in last 12 months which does not report %\n",
    "            score = 100\n",
    "        else:\n",
    "            score = listing.get_text().split('%')[0].split('\\t')[2]\n",
    "        fbscore.append(score)\n",
    "        \n",
    "    elif soup.find_all(text='We looked everywhere.') != []:  #filter for dead pages (drop row)\n",
    "        print(i,'Dead Page!')\n",
    "        df.drop(df.iloc[i:i+1].index, inplace=True)\n",
    "        i-=1        \n",
    "    else:\n",
    "        print(i)\n",
    "\n",
    "        # Get item location\n",
    "        listing = soup.find_all('div', attrs={'class': 'iti-eu-bld-gry'})\n",
    "        if listing==[]:  #filter for pages requiring another link to listing\n",
    "            listing = soup.find_all('div', attrs={'class': 'nodestar-item-card-details__view'})\n",
    "            temp = soup.find_all('div', attrs={'class': 'app-status-messages'})[0].get_text()\n",
    "            if listing==[] and temp==\"We're sorry, something went wrong. Please try again.\":  #filter for dead listing page\n",
    "                print(i,'Dead Page!!!')\n",
    "                df.drop(df.iloc[i:i+1].index, inplace=True)\n",
    "            link = listing[0].a.get('href')\n",
    "            req = requests.get(link)\n",
    "            soup = BeautifulSoup(req.content, 'html.parser')\n",
    "            listing = soup.find_all('div', attrs={'class': 'iti-eu-bld-gry'})\n",
    "        loc = listing[0].find().get_text()\n",
    "        location.append(loc)\n",
    "        # Get seller username\n",
    "        listing = soup.find('div', attrs={'class': 'mbg vi-VR-margBtm3'})\n",
    "        name = listing.a.get_text()\n",
    "        seller.append(name)\n",
    "        # Get feedback count\n",
    "        feed = listing.find_all('a')[1].get_text()\n",
    "        feedback.append(feed)\n",
    "        # Get feedback score\n",
    "        listing = soup.find('div', attrs={'id':'si-fb'})\n",
    "        if listing!=None:  #filter for pages with score displayed otherwise need to navigate to seller's page\n",
    "            score = listing.get_text().split('%')[0]\n",
    "        elif feed=='0':  #filter for new accounts (zero feedback) since page won't list %\n",
    "            score = 100\n",
    "        elif listing==None:  #navigate to seller's page\n",
    "            link = soup.find('div', attrs={'class':'mbg vi-VR-margBtm3'}).a.get('href')\n",
    "            req = requests.get(link)\n",
    "            soup = BeautifulSoup(req.content, 'html.parser')\n",
    "            listing = soup.find('div', attrs={'class':'perctg'})\n",
    "            if listing.get_text()=='':  #filter for no feedback in last 12 months which does not report %\n",
    "                score = 100\n",
    "            else:\n",
    "                score = listing.get_text().split('%')[0].split('\\t')[2]\n",
    "        else: \n",
    "            print(i,'!!!')\n",
    "            break\n",
    "        fbscore.append(score)\n",
    "    i+=1\n"
   ]
  },
  {
   "cell_type": "code",
   "execution_count": 229,
   "metadata": {
    "ExecuteTime": {
     "end_time": "2020-05-15T00:07:24.670205Z",
     "start_time": "2020-05-15T00:07:24.658490Z"
    }
   },
   "outputs": [
    {
     "name": "stdout",
     "output_type": "stream",
     "text": [
      "232 232 232 232 232\n",
      "Waipahu, Hawaii, United States  edolfin 935 100\n"
     ]
    }
   ],
   "source": [
    "# Troubleshooting commands\n",
    "print(len(location),len(seller),len(feedback),len(fbscore), i)\n",
    "print(location[-1], seller[-1], feedback[-1], fbscore[-1])"
   ]
  },
  {
   "cell_type": "code",
   "execution_count": 232,
   "metadata": {
    "ExecuteTime": {
     "end_time": "2020-05-15T00:08:16.975239Z",
     "start_time": "2020-05-15T00:08:16.884886Z"
    },
    "scrolled": true
   },
   "outputs": [],
   "source": [
    "# Add lists to dataframe\n",
    "df['Location'] = location\n",
    "df['Seller'] = seller\n",
    "df['Feedback'] = feedback\n",
    "df['FBScore'] = fbscore"
   ]
  },
  {
   "cell_type": "markdown",
   "metadata": {},
   "source": [
    "### Now we'll clean up the values in the `Shipping` column.\n",
    "> Note that due to the prevalence of [] values (not as a string but an empty set) the range of values had to be explored manually because the .value_counts() function would throw an error.\n",
    "\n",
    "The range of values included: Free Shipping, +$xx.xx (x=integer), [] (local pickup)"
   ]
  },
  {
   "cell_type": "code",
   "execution_count": 115,
   "metadata": {
    "ExecuteTime": {
     "end_time": "2020-05-14T17:21:40.914645Z",
     "start_time": "2020-05-14T17:21:40.888287Z"
    }
   },
   "outputs": [],
   "source": [
    "# Function to convert all 'Shipping' values to float\n",
    "def clean_shipping(df):\n",
    "    i = 0  #index counter\n",
    "    for ship in df.Shipping:\n",
    "        ship = str(ship)  #to avoid errors due to [] values\n",
    "        if ship[0].lower() == 'f':  #Free shipping value\n",
    "            df.Shipping.iloc[i] = 0\n",
    "        elif ship[0]=='+':  #float value starting with +$ (eg. '+$15.00 shipping')\n",
    "            df.Shipping.iloc[i] = ship[2:].split(' ')[0]\n",
    "        else:  #all else are local pickup\n",
    "            df.Shipping.iloc[i] = 0\n",
    "        i+=1\n",
    "    df.Shipping = df.Shipping.astype('float64')\n",
    "    # Also convert Price, Feedback, FBScore columns to float\n",
    "    df.Price = df.Price.astype('float64')\n",
    "    df.Feedback = df.Feedback.astype('float64')\n",
    "    df.FBScore = df.FBScore.astype('float64')\n",
    "    return df"
   ]
  },
  {
   "cell_type": "code",
   "execution_count": 6,
   "metadata": {
    "ExecuteTime": {
     "end_time": "2020-05-15T17:46:44.225079Z",
     "start_time": "2020-05-15T17:46:44.018625Z"
    }
   },
   "outputs": [
    {
     "data": {
      "text/plain": [
       "0.00     6866\n",
       "26.70    1173\n",
       "23.15     913\n",
       "20.00     406\n",
       "15.00     375\n",
       "         ... \n",
       "12.87       1\n",
       "18.18       1\n",
       "31.61       1\n",
       "17.02       1\n",
       "21.65       1\n",
       "Name: Shipping, Length: 506, dtype: int64"
      ]
     },
     "execution_count": 6,
     "metadata": {},
     "output_type": "execute_result"
    }
   ],
   "source": [
    "df_new = clean_shipping(df_new)\n",
    "df_new.Shipping.value_counts()"
   ]
  },
  {
   "cell_type": "markdown",
   "metadata": {},
   "source": [
    "#### For `Condition`, we have the eBay provided values: Brand New / Pre-Owned / Refurbished / Open Box / Parts Only / New (Other). Some users created their own values (seems by mistake intended for other fields) and upon review they can be lumped into New (Other)."
   ]
  },
  {
   "cell_type": "code",
   "execution_count": 117,
   "metadata": {
    "ExecuteTime": {
     "end_time": "2020-05-14T17:23:57.557894Z",
     "start_time": "2020-05-14T17:23:57.540358Z"
    }
   },
   "outputs": [],
   "source": [
    "# Function to standardize all 'Condition' values\n",
    "def clean_condition(df):\n",
    "    cond_list = ['Brand New', 'Pre-Owned', 'Refurbished', 'Open Box', 'Parts Only', 'New (Other)']\n",
    "    # Filter for rows with values not in list and change to 'New (Other)'\n",
    "    i = df[df.Condition.isin(cond_list)==False].index\n",
    "    df.Condition.loc[i] = 'New (Other)'\n",
    "    return df"
   ]
  },
  {
   "cell_type": "code",
   "execution_count": 234,
   "metadata": {
    "ExecuteTime": {
     "end_time": "2020-05-15T00:09:08.949155Z",
     "start_time": "2020-05-15T00:09:08.909229Z"
    }
   },
   "outputs": [
    {
     "data": {
      "text/plain": [
       "Pre-Owned      137\n",
       "Brand New       66\n",
       "Open Box        18\n",
       "Parts Only       6\n",
       "New (Other)      4\n",
       "Refurbished      1\n",
       "Name: Condition, dtype: int64"
      ]
     },
     "execution_count": 234,
     "metadata": {},
     "output_type": "execute_result"
    }
   ],
   "source": [
    "df_new = clean_condition(df_new)\n",
    "df_new.Condition.value_counts()"
   ]
  },
  {
   "cell_type": "markdown",
   "metadata": {},
   "source": [
    "#### To make EDA easier, let's modify the `Location` values into a list (City, State, Country)"
   ]
  },
  {
   "cell_type": "code",
   "execution_count": 119,
   "metadata": {
    "ExecuteTime": {
     "end_time": "2020-05-14T17:25:05.851265Z",
     "start_time": "2020-05-14T17:25:05.839304Z"
    },
    "scrolled": true
   },
   "outputs": [],
   "source": [
    "# Function to convert Location values into list\n",
    "def loc_list(df):\n",
    "    i = 0  #index counter\n",
    "    for x in df.Location:\n",
    "        if len(x.split(','))==2:  #filter for missing state/district, fill in 'STATE'\n",
    "            df['Location'].iloc[i] = [x.split(',')[0], 'STATE', x.split(',')[1].lstrip()]\n",
    "        else:\n",
    "            df['Location'].iloc[i] = [x.split(',')[0], x.split(',')[1].lstrip(), x.split(',')[2].lstrip()]\n",
    "        i+=1\n",
    "    return df"
   ]
  },
  {
   "cell_type": "code",
   "execution_count": 235,
   "metadata": {
    "ExecuteTime": {
     "end_time": "2020-05-15T00:09:24.896046Z",
     "start_time": "2020-05-15T00:09:24.688680Z"
    }
   },
   "outputs": [
    {
     "data": {
      "text/html": [
       "<div>\n",
       "<style scoped>\n",
       "    .dataframe tbody tr th:only-of-type {\n",
       "        vertical-align: middle;\n",
       "    }\n",
       "\n",
       "    .dataframe tbody tr th {\n",
       "        vertical-align: top;\n",
       "    }\n",
       "\n",
       "    .dataframe thead th {\n",
       "        text-align: right;\n",
       "    }\n",
       "</style>\n",
       "<table border=\"1\" class=\"dataframe\">\n",
       "  <thead>\n",
       "    <tr style=\"text-align: right;\">\n",
       "      <th></th>\n",
       "      <th>Date</th>\n",
       "      <th>Title</th>\n",
       "      <th>Price</th>\n",
       "      <th>Shipping</th>\n",
       "      <th>Condition</th>\n",
       "      <th>Link</th>\n",
       "      <th>Location</th>\n",
       "      <th>Seller</th>\n",
       "      <th>Feedback</th>\n",
       "      <th>FBScore</th>\n",
       "    </tr>\n",
       "  </thead>\n",
       "  <tbody>\n",
       "    <tr>\n",
       "      <td>0</td>\n",
       "      <td>2020-02-24 22:20:00</td>\n",
       "      <td>Nintendo Switch HAC-001(-01) 32GB Console  BUNDLE MUST LOOK !</td>\n",
       "      <td>710.00</td>\n",
       "      <td>0.0</td>\n",
       "      <td>Pre-Owned</td>\n",
       "      <td>https://www.ebay.com/itm/Nintendo-Switch-HAC-001-01-32GB-Console-BUNDLE-MUST-LOOK/174192016632?h...</td>\n",
       "      <td>[Oceanside, California, United States]</td>\n",
       "      <td>arvaldezp_0</td>\n",
       "      <td>90.0</td>\n",
       "      <td>96.9</td>\n",
       "    </tr>\n",
       "    <tr>\n",
       "      <td>1</td>\n",
       "      <td>2020-02-24 21:11:00</td>\n",
       "      <td>Nintendo Switch Animal Crossing: New Horizon Special Edition Console Preorder</td>\n",
       "      <td>449.99</td>\n",
       "      <td>0.0</td>\n",
       "      <td>Brand New</td>\n",
       "      <td>https://www.ebay.com/itm/Nintendo-Switch-Animal-Crossing-New-Horizon-Special-Edition-Console-Pre...</td>\n",
       "      <td>[San Francisco, California, United States]</td>\n",
       "      <td>astrosparky</td>\n",
       "      <td>122.0</td>\n",
       "      <td>100.0</td>\n",
       "    </tr>\n",
       "    <tr>\n",
       "      <td>2</td>\n",
       "      <td>2020-02-24 21:10:00</td>\n",
       "      <td>Nintendo Switch Console (Joy-Cons) + Carry Case</td>\n",
       "      <td>249.99</td>\n",
       "      <td>0.0</td>\n",
       "      <td>Pre-Owned</td>\n",
       "      <td>https://www.ebay.com/itm/Nintendo-Switch-Console-Joy-Cons-Carry-Case-/333526212695?_trksid=p2349...</td>\n",
       "      <td>[Lincoln Park, New Jersey, United States]</td>\n",
       "      <td>twobrothersgames</td>\n",
       "      <td>27761.0</td>\n",
       "      <td>100.0</td>\n",
       "    </tr>\n",
       "  </tbody>\n",
       "</table>\n",
       "</div>"
      ],
      "text/plain": [
       "                 Date  \\\n",
       "0 2020-02-24 22:20:00   \n",
       "1 2020-02-24 21:11:00   \n",
       "2 2020-02-24 21:10:00   \n",
       "\n",
       "                                                                           Title  \\\n",
       "0                  Nintendo Switch HAC-001(-01) 32GB Console  BUNDLE MUST LOOK !   \n",
       "1  Nintendo Switch Animal Crossing: New Horizon Special Edition Console Preorder   \n",
       "2                                Nintendo Switch Console (Joy-Cons) + Carry Case   \n",
       "\n",
       "    Price  Shipping  Condition  \\\n",
       "0  710.00       0.0  Pre-Owned   \n",
       "1  449.99       0.0  Brand New   \n",
       "2  249.99       0.0  Pre-Owned   \n",
       "\n",
       "                                                                                                  Link  \\\n",
       "0  https://www.ebay.com/itm/Nintendo-Switch-HAC-001-01-32GB-Console-BUNDLE-MUST-LOOK/174192016632?h...   \n",
       "1  https://www.ebay.com/itm/Nintendo-Switch-Animal-Crossing-New-Horizon-Special-Edition-Console-Pre...   \n",
       "2  https://www.ebay.com/itm/Nintendo-Switch-Console-Joy-Cons-Carry-Case-/333526212695?_trksid=p2349...   \n",
       "\n",
       "                                     Location             Seller  Feedback  \\\n",
       "0      [Oceanside, California, United States]        arvaldezp_0      90.0   \n",
       "1  [San Francisco, California, United States]        astrosparky     122.0   \n",
       "2   [Lincoln Park, New Jersey, United States]   twobrothersgames   27761.0   \n",
       "\n",
       "   FBScore  \n",
       "0     96.9  \n",
       "1    100.0  \n",
       "2    100.0  "
      ]
     },
     "execution_count": 235,
     "metadata": {},
     "output_type": "execute_result"
    }
   ],
   "source": [
    "df_new = loc_list(df_new)\n",
    "df_new.head(3)"
   ]
  },
  {
   "cell_type": "code",
   "execution_count": null,
   "metadata": {},
   "outputs": [],
   "source": [
    "# Fix missing location values ([], \\n) if needed\n",
    "for i in df[df.Location=='\\n'].index:\n",
    "    req = requests.get(df.Link.iloc[i])\n",
    "    soup = BeautifulSoup(req.content, 'html.parser')\n",
    "    listing = soup.find_all('tr', attrs={'class': 'vi-ht20'})\n",
    "    df.Location.iloc[i] = listing[4].find_all('div', attrs={'class': 'u-flL'})[1].get_text()"
   ]
  },
  {
   "cell_type": "code",
   "execution_count": 245,
   "metadata": {
    "ExecuteTime": {
     "end_time": "2020-05-15T00:18:25.888603Z",
     "start_time": "2020-05-15T00:18:15.257390Z"
    }
   },
   "outputs": [],
   "source": [
    "# Fix location values incorrectly stored as string instead of list\n",
    "notlist = []\n",
    "i = 0\n",
    "for x in df.Location:\n",
    "    if not isinstance(x, list): notlist.append(i)\n",
    "    i+=1\n",
    "\n",
    "for i in notlist:\n",
    "    df.Location.iloc[i] = [df.Location.iloc[i][1:-1].split(',')[0][1:-1],df.Location.iloc[i][1:-1].split(',')[1][2:-1],\n",
    "                               df.Location.iloc[i][1:-1].split(',')[2][2:-1]]"
   ]
  },
  {
   "cell_type": "code",
   "execution_count": null,
   "metadata": {},
   "outputs": [],
   "source": [
    "df = clean_shipping(df)\n",
    "df = clean_condition(df)\n",
    "df = loc_list(df)"
   ]
  },
  {
   "cell_type": "code",
   "execution_count": 242,
   "metadata": {
    "ExecuteTime": {
     "end_time": "2020-05-15T00:14:39.935140Z",
     "start_time": "2020-05-15T00:14:38.970178Z"
    },
    "scrolled": true
   },
   "outputs": [],
   "source": [
    "# Combining all dataframes\n",
    "df = pd.concat([df_new, df_gray, df_misc, df])\n",
    "df.Date = pd.to_datetime(df.Date)\n",
    "df = df.sort_values('Date',ascending=False).reset_index().drop(columns='index')\n",
    "df = df.drop_duplicates(['Date','Title','Price','Seller','City'])"
   ]
  },
  {
   "cell_type": "markdown",
   "metadata": {},
   "source": [
    "### Let's move the Switch Lites incorrectly categorized as 'main' Switch systems to our 'lite' dataframe."
   ]
  },
  {
   "cell_type": "code",
   "execution_count": 274,
   "metadata": {
    "ExecuteTime": {
     "end_time": "2020-05-15T00:38:45.835306Z",
     "start_time": "2020-05-15T00:38:45.808559Z"
    }
   },
   "outputs": [
    {
     "data": {
      "text/plain": [
       "540"
      ]
     },
     "execution_count": 274,
     "metadata": {},
     "output_type": "execute_result"
    }
   ],
   "source": [
    "lite = []\n",
    "i = 0\n",
    "for t in df.Title:  #record all indexes with 'lite' in title\n",
    "    if 'lite' in t.lower(): lite.append(i)\n",
    "    i+=1\n",
    "print(len(lite))\n",
    "\n",
    "temp = df.iloc[lite]\n",
    "df_lite = pd.concat([df_lite, temp])  #add identified listings to lite df\n",
    "df_lite.Date = pd.to_datetime(df_lite.Date)\n",
    "df_lite = df_lite.sort_values('Date',ascending=False).reset_index(drop=True)\n",
    "df_lite = df_lite.drop_duplicates(['Date','Title','Price','Shipping','Seller','Link'])  #drop duplicates\n",
    "df.drop(temp.index,inplace=True)  #drop identified listings from main df"
   ]
  },
  {
   "cell_type": "code",
   "execution_count": 328,
   "metadata": {
    "ExecuteTime": {
     "end_time": "2020-05-15T01:07:52.950279Z",
     "start_time": "2020-05-15T01:07:52.906001Z"
    }
   },
   "outputs": [],
   "source": [
    "# Pickle throwing errors - convert to csv file to save data\n",
    "df.to_csv('df.csv',index=False)\n",
    "df_lite.to_csv('df_lite.csv',index=False)"
   ]
  },
  {
   "cell_type": "markdown",
   "metadata": {},
   "source": [
    "### Now that we have our data collected and organized, let's start diving into some analysis. Please open the next Jupyter notebook: EDA Model.ipynb"
   ]
  },
  {
   "cell_type": "code",
   "execution_count": null,
   "metadata": {},
   "outputs": [],
   "source": []
  }
 ],
 "metadata": {
  "kernelspec": {
   "display_name": "Python [conda env:learn-env] *",
   "language": "python",
   "name": "conda-env-learn-env-py"
  },
  "language_info": {
   "codemirror_mode": {
    "name": "ipython",
    "version": 3
   },
   "file_extension": ".py",
   "mimetype": "text/x-python",
   "name": "python",
   "nbconvert_exporter": "python",
   "pygments_lexer": "ipython3",
   "version": "3.6.9"
  }
 },
 "nbformat": 4,
 "nbformat_minor": 2
}
